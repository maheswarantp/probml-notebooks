{
 "cells": [
  {
   "cell_type": "code",
   "execution_count": 1,
   "id": "00ab35dd",
   "metadata": {},
   "outputs": [],
   "source": [
    "import jax.numpy as jnp\n",
    "from jax import grad, vmap, jit\n",
    "from jax import random\n",
    "from jax.scipy.special import logsumexp\n",
    "\n",
    "import jax\n",
    "\n",
    "from optax import apply_updates, sgd\n",
    "from tqdm import tqdm\n",
    "\n",
    "import numpy as np\n",
    "import torch\n",
    "from torch.utils import data\n",
    "from torchvision import datasets, transforms\n",
    "import time\n",
    "import matplotlib.pyplot as plt"
   ]
  },
  {
   "cell_type": "code",
   "execution_count": 2,
   "id": "05affa81",
   "metadata": {},
   "outputs": [],
   "source": [
    "def random_layer_params(m, n, key):\n",
    "    \"\"\"\n",
    "    b: visible bias\n",
    "    c: hidden bias\n",
    "    \n",
    "    \"\"\"\n",
    "    w = random.normal(key, (m, n)) * 0.01\n",
    "    b = jnp.zeros((m,))\n",
    "    c = jnp.zeros((n,))\n",
    "    return w, b, c"
   ]
  },
  {
   "cell_type": "code",
   "execution_count": 3,
   "id": "f86cef38",
   "metadata": {},
   "outputs": [],
   "source": [
    "def init_network_params(layer_sizes, key):\n",
    "    W, b, c = random_layer_params(layer_sizes[0], layer_sizes[1], key)\n",
    "    return [W, b, c]"
   ]
  },
  {
   "cell_type": "code",
   "execution_count": 4,
   "id": "bf22c4b2",
   "metadata": {},
   "outputs": [],
   "source": [
    "@jit\n",
    "def sigmoid(x):\n",
    "    return 1/(1+jnp.exp(-x))\n",
    "\n",
    "def relu(x):\n",
    "    return jnp.maximum(x, 0)\n",
    "\n",
    "@jit\n",
    "def linear(x, W, b):\n",
    "    return jnp.dot(x, W.T) + b"
   ]
  },
  {
   "cell_type": "code",
   "execution_count": 5,
   "id": "404f38e9",
   "metadata": {},
   "outputs": [],
   "source": [
    "@jit\n",
    "def hidden_sampling(params, v):\n",
    "    W, b, c = params\n",
    "    activations = linear(v, W.T, c)\n",
    "    probs = sigmoid(activations)\n",
    "    states = random.bernoulli(key, probs)\n",
    "    return probs, states\n",
    "\n",
    "@jit\n",
    "def visible_sampling(params, h):\n",
    "    W, b, c = params\n",
    "    activations = linear(h, W, b)\n",
    "    probs = sigmoid(activations)\n",
    "    states = random.bernoulli(key, probs)\n",
    "    return probs, states\n",
    "\n",
    "@jit\n",
    "def gibbs_sampling(params, v):\n",
    "    v = jnp.array(v).reshape(28 * 28)\n",
    "    v_tilde = v\n",
    "    for i in range(steps):\n",
    "        _, h_tilde = hidden_sampling(params, v_tilde)\n",
    "        _, v_tilde = visible_sampling(params, h_tilde)\n",
    "\n",
    "    return h_tilde, v_tilde\n",
    "\n",
    "batched_hidden_sampling = vmap(hidden_sampling, in_axes=(None, 0))\n",
    "batched_visible_sampling = vmap(visible_sampling, in_axes=(None, 0))\n",
    "batched_sampling = vmap(gibbs_sampling, in_axes = (None, 0))"
   ]
  },
  {
   "cell_type": "code",
   "execution_count": 6,
   "id": "7b56578f",
   "metadata": {},
   "outputs": [],
   "source": [
    "@jit\n",
    "def energy(params, v):\n",
    "    W, b, c = params\n",
    "    activations = linear(v, W.T, c)\n",
    "    h = jnp.sum(jax.nn.softplus(activations))\n",
    "    v = jnp.dot(v, b.T)\n",
    "    return -v-h\n",
    "\n",
    "batched_energy = vmap(energy, in_axes = (None, 0))"
   ]
  },
  {
   "cell_type": "code",
   "execution_count": 8,
   "id": "58fc32cc",
   "metadata": {},
   "outputs": [],
   "source": [
    "def cost(params, v, v_tilde):\n",
    "    cost = jnp.mean(batched_energy(params, v)) - jnp.mean(batched_energy(params, v_tilde))\n",
    "    return cost\n",
    "\n",
    "# Uses just JAX's grad\n",
    "@jit \n",
    "def update(params, v, v_tilde):\n",
    "    dW, dB, dC = grad(cost)(params, v, v_tilde)\n",
    "    W, b, c = params\n",
    "    W -= step_size * dW\n",
    "    b -= step_size * dB\n",
    "    c -= step_size * dC\n",
    "    return [W, b, c]\n",
    "\n",
    "\n",
    "# Uses Optax\n",
    "# @jit\n",
    "# def update(params, v, v_tilde, opt_state):\n",
    "#     grads = grad(cost)(params, v, v_tilde)\n",
    "#     updates, opt_state = optimizer.update(grads, opt_state)\n",
    "#     return apply_updates(params, updates)"
   ]
  },
  {
   "cell_type": "code",
   "execution_count": 9,
   "id": "55025277",
   "metadata": {},
   "outputs": [],
   "source": [
    "# Init"
   ]
  },
  {
   "cell_type": "code",
   "execution_count": 10,
   "id": "1e89e37d",
   "metadata": {},
   "outputs": [
    {
     "name": "stderr",
     "output_type": "stream",
     "text": [
      "WARNING:absl:No GPU/TPU found, falling back to CPU. (Set TF_CPP_MIN_LOG_LEVEL=0 and rerun for more info.)\n"
     ]
    }
   ],
   "source": [
    "key = random.PRNGKey(1)\n",
    "step_size = 0.05\n",
    "num_epochs = 10\n",
    "batch_size = 128\n",
    "n_targets = 10\n",
    "steps = 2"
   ]
  },
  {
   "cell_type": "code",
   "execution_count": 11,
   "id": "4498c4eb",
   "metadata": {},
   "outputs": [
    {
     "name": "stdout",
     "output_type": "stream",
     "text": [
      "Downloading http://yann.lecun.com/exdb/mnist/train-images-idx3-ubyte.gz\n",
      "Downloading http://yann.lecun.com/exdb/mnist/train-images-idx3-ubyte.gz to ./data/MNIST/raw/train-images-idx3-ubyte.gz\n"
     ]
    },
    {
     "data": {
      "application/vnd.jupyter.widget-view+json": {
       "model_id": "cb15bf717e5d48d79f7f2dba3acd2487",
       "version_major": 2,
       "version_minor": 0
      },
      "text/plain": [
       "  0%|          | 0/9912422 [00:00<?, ?it/s]"
      ]
     },
     "metadata": {},
     "output_type": "display_data"
    },
    {
     "name": "stdout",
     "output_type": "stream",
     "text": [
      "Extracting ./data/MNIST/raw/train-images-idx3-ubyte.gz to ./data/MNIST/raw\n",
      "\n",
      "Downloading http://yann.lecun.com/exdb/mnist/train-labels-idx1-ubyte.gz\n",
      "Downloading http://yann.lecun.com/exdb/mnist/train-labels-idx1-ubyte.gz to ./data/MNIST/raw/train-labels-idx1-ubyte.gz\n"
     ]
    },
    {
     "data": {
      "application/vnd.jupyter.widget-view+json": {
       "model_id": "96f968a0b72641f9b727387d92a01289",
       "version_major": 2,
       "version_minor": 0
      },
      "text/plain": [
       "  0%|          | 0/28881 [00:00<?, ?it/s]"
      ]
     },
     "metadata": {},
     "output_type": "display_data"
    },
    {
     "name": "stdout",
     "output_type": "stream",
     "text": [
      "Extracting ./data/MNIST/raw/train-labels-idx1-ubyte.gz to ./data/MNIST/raw\n",
      "\n",
      "Downloading http://yann.lecun.com/exdb/mnist/t10k-images-idx3-ubyte.gz\n",
      "Downloading http://yann.lecun.com/exdb/mnist/t10k-images-idx3-ubyte.gz to ./data/MNIST/raw/t10k-images-idx3-ubyte.gz\n"
     ]
    },
    {
     "data": {
      "application/vnd.jupyter.widget-view+json": {
       "model_id": "12f2190b897c4c889437b973b6138eba",
       "version_major": 2,
       "version_minor": 0
      },
      "text/plain": [
       "  0%|          | 0/1648877 [00:00<?, ?it/s]"
      ]
     },
     "metadata": {},
     "output_type": "display_data"
    },
    {
     "name": "stdout",
     "output_type": "stream",
     "text": [
      "Extracting ./data/MNIST/raw/t10k-images-idx3-ubyte.gz to ./data/MNIST/raw\n",
      "\n",
      "Downloading http://yann.lecun.com/exdb/mnist/t10k-labels-idx1-ubyte.gz\n",
      "Downloading http://yann.lecun.com/exdb/mnist/t10k-labels-idx1-ubyte.gz to ./data/MNIST/raw/t10k-labels-idx1-ubyte.gz\n"
     ]
    },
    {
     "data": {
      "application/vnd.jupyter.widget-view+json": {
       "model_id": "17bef0dfb22541f39e1ef51cee32994a",
       "version_major": 2,
       "version_minor": 0
      },
      "text/plain": [
       "  0%|          | 0/4542 [00:00<?, ?it/s]"
      ]
     },
     "metadata": {},
     "output_type": "display_data"
    },
    {
     "name": "stdout",
     "output_type": "stream",
     "text": [
      "Extracting ./data/MNIST/raw/t10k-labels-idx1-ubyte.gz to ./data/MNIST/raw\n",
      "\n"
     ]
    }
   ],
   "source": [
    "train = datasets.MNIST(\n",
    "    root='./data', train=True, download=True, transform=transforms.ToTensor())\n",
    "\n",
    "test = datasets.MNIST(\n",
    "    root='./data', train=False, download=True, transform=transforms.ToTensor()\n",
    ")\n",
    "\n",
    "train_loader = torch.utils.data.DataLoader(\n",
    "    train,\n",
    "    batch_size=batch_size, shuffle=True)\n",
    "\n",
    "test_loader = torch.utils.data.DataLoader(\n",
    "    test,\n",
    "    batch_size=batch_size, shuffle=True)"
   ]
  },
  {
   "cell_type": "code",
   "execution_count": 12,
   "id": "64f56e77",
   "metadata": {},
   "outputs": [
    {
     "data": {
      "text/plain": [
       "3"
      ]
     },
     "execution_count": 12,
     "metadata": {},
     "output_type": "execute_result"
    }
   ],
   "source": [
    "# Params\n",
    "params = init_network_params([784, 128], key)\n",
    "len(params)"
   ]
  },
  {
   "cell_type": "code",
   "execution_count": 15,
   "id": "3799161e",
   "metadata": {},
   "outputs": [],
   "source": [
    "optimizer = sgd(learning_rate=step_size)\n",
    "opt_state = optimizer.init(params)"
   ]
  },
  {
   "cell_type": "code",
   "execution_count": 16,
   "id": "6adb1b66",
   "metadata": {},
   "outputs": [],
   "source": [
    "# Reconstruct\n",
    "@jit\n",
    "def reconstruct(images, params):\n",
    "    h_t, v_t = batched_sampling(params, images)\n",
    "    return v_t"
   ]
  },
  {
   "cell_type": "code",
   "execution_count": 17,
   "id": "4d7bc090",
   "metadata": {},
   "outputs": [
    {
     "name": "stderr",
     "output_type": "stream",
     "text": [
      "100%|█████████████████████████████████████████| 469/469 [00:08<00:00, 54.55it/s]\n"
     ]
    },
    {
     "name": "stdout",
     "output_type": "stream",
     "text": [
      "Epoch 0 in 8.60 sec with MSE: 100.69982147216797\n"
     ]
    },
    {
     "name": "stderr",
     "output_type": "stream",
     "text": [
      "100%|█████████████████████████████████████████| 469/469 [00:06<00:00, 69.22it/s]\n"
     ]
    },
    {
     "name": "stdout",
     "output_type": "stream",
     "text": [
      "Epoch 1 in 6.78 sec with MSE: 69.1651382446289\n"
     ]
    },
    {
     "name": "stderr",
     "output_type": "stream",
     "text": [
      "100%|█████████████████████████████████████████| 469/469 [00:06<00:00, 67.19it/s]\n"
     ]
    },
    {
     "name": "stdout",
     "output_type": "stream",
     "text": [
      "Epoch 2 in 6.98 sec with MSE: 61.76302719116211\n"
     ]
    },
    {
     "name": "stderr",
     "output_type": "stream",
     "text": [
      "100%|█████████████████████████████████████████| 469/469 [00:06<00:00, 69.24it/s]\n"
     ]
    },
    {
     "name": "stdout",
     "output_type": "stream",
     "text": [
      "Epoch 3 in 6.78 sec with MSE: 56.31222152709961\n"
     ]
    },
    {
     "name": "stderr",
     "output_type": "stream",
     "text": [
      "100%|█████████████████████████████████████████| 469/469 [00:06<00:00, 67.27it/s]\n"
     ]
    },
    {
     "name": "stdout",
     "output_type": "stream",
     "text": [
      "Epoch 4 in 6.97 sec with MSE: 53.367454528808594\n"
     ]
    },
    {
     "name": "stderr",
     "output_type": "stream",
     "text": [
      "100%|█████████████████████████████████████████| 469/469 [00:06<00:00, 67.77it/s]\n"
     ]
    },
    {
     "name": "stdout",
     "output_type": "stream",
     "text": [
      "Epoch 5 in 6.92 sec with MSE: 51.93218994140625\n"
     ]
    },
    {
     "name": "stderr",
     "output_type": "stream",
     "text": [
      "100%|█████████████████████████████████████████| 469/469 [00:07<00:00, 66.34it/s]\n"
     ]
    },
    {
     "name": "stdout",
     "output_type": "stream",
     "text": [
      "Epoch 6 in 7.07 sec with MSE: 56.76093292236328\n"
     ]
    },
    {
     "name": "stderr",
     "output_type": "stream",
     "text": [
      "100%|█████████████████████████████████████████| 469/469 [00:07<00:00, 65.61it/s]\n"
     ]
    },
    {
     "name": "stdout",
     "output_type": "stream",
     "text": [
      "Epoch 7 in 7.15 sec with MSE: 56.87725067138672\n"
     ]
    },
    {
     "name": "stderr",
     "output_type": "stream",
     "text": [
      "100%|█████████████████████████████████████████| 469/469 [00:07<00:00, 65.75it/s]\n"
     ]
    },
    {
     "name": "stdout",
     "output_type": "stream",
     "text": [
      "Epoch 8 in 7.13 sec with MSE: 59.21498107910156\n"
     ]
    },
    {
     "name": "stderr",
     "output_type": "stream",
     "text": [
      "100%|█████████████████████████████████████████| 469/469 [00:06<00:00, 67.78it/s]"
     ]
    },
    {
     "name": "stdout",
     "output_type": "stream",
     "text": [
      "Epoch 9 in 6.92 sec with MSE: 57.409576416015625\n"
     ]
    },
    {
     "name": "stderr",
     "output_type": "stream",
     "text": [
      "\n"
     ]
    }
   ],
   "source": [
    "# Training loop\n",
    "\n",
    "for epoch in range(num_epochs):\n",
    "    start = time.time()\n",
    "    MSE = 0\n",
    "    for x, y in tqdm(train_loader):\n",
    "        \n",
    "        v = jnp.array(x).reshape(x.size(0), 28 * 28)\n",
    "        h_tilde, v_tilde = batched_sampling(params, v)\n",
    "        \n",
    "        params = update(params, v, v_tilde)\n",
    "        \n",
    "        # MSE\n",
    "        batch_size = x.size(0)\n",
    "        batch_mse = jnp.divide(jnp.sum(jnp.power(v - v_tilde, 2)), batch_size)\n",
    "        \n",
    "        MSE += batch_mse\n",
    "        \n",
    "    epoch_time = time.time() - start\n",
    "    print(f'Epoch {epoch} in {epoch_time:0.2f} sec with MSE: {MSE/len(train_loader)}')"
   ]
  },
  {
   "cell_type": "code",
   "execution_count": 37,
   "id": "35f19ddf",
   "metadata": {},
   "outputs": [],
   "source": [
    "def plot_images(images, params, num_images=5):\n",
    "    v_t = reconstruct(images, params)\n",
    "    fig = plt.figure(figsize=(10, 10))\n",
    "    for i in range(num_images):\n",
    "        ax = fig.add_subplot(num_images, 2, 2*i+1)\n",
    "        ax.title.set_text('Original Image')\n",
    "        plt.imshow(images[i].reshape(28, 28))\n",
    "        \n",
    "        ax2 = fig.add_subplot(num_images, 2, 2*i+2)\n",
    "        ax2.title.set_text('Reconstructed Image')\n",
    "\n",
    "        plt.imshow(v_t[i].reshape(28, 28))\n",
    "    fig.tight_layout(pad=10)\n",
    "    plt.subplots_adjust(left=0.1,\n",
    "                        bottom=0.1, \n",
    "                        right=0.9, \n",
    "                        top=0.9, \n",
    "                        wspace=0.4, \n",
    "                        hspace=0.4)\n",
    "    plt.show()"
   ]
  },
  {
   "cell_type": "code",
   "execution_count": 38,
   "id": "c2ae9510",
   "metadata": {},
   "outputs": [
    {
     "name": "stderr",
     "output_type": "stream",
     "text": [
      "/tmp/ipykernel_13323/4167447502.py:13: UserWarning: Tight layout not applied. tight_layout cannot make axes height small enough to accommodate all axes decorations.\n",
      "  fig.tight_layout(pad=10)\n"
     ]
    },
    {
     "data": {
      "image/png": "[encoded data removed]",
      "text/plain": [
       "<Figure size 720x720 with 10 Axes>"
      ]
     },
     "metadata": {
      "needs_background": "light"
     },
     "output_type": "display_data"
    }
   ],
   "source": [
    "plot_images(jnp.array(x).reshape(x.size(0), 28 * 28), params)"
   ]
  },
  {
   "cell_type": "code",
   "execution_count": null,
   "id": "a70a65c7",
   "metadata": {},
   "outputs": [],
   "source": []
  }
 ],
 "metadata": {
  "kernelspec": {
   "display_name": "Python 3 (ipykernel)",
   "language": "python",
   "name": "python3"
  },
  "language_info": {
   "codemirror_mode": {
    "name": "ipython",
    "version": 3
   },
   "file_extension": ".py",
   "mimetype": "text/x-python",
   "name": "python",
   "nbconvert_exporter": "python",
   "pygments_lexer": "ipython3",
   "version": "3.8.0"
  }
 },
 "nbformat": 4,
 "nbformat_minor": 5
}
