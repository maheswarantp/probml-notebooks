{
 "cells": [
  {
   "cell_type": "code",
   "execution_count": 1,
   "id": "1b8b9bf9",
   "metadata": {},
   "outputs": [],
   "source": [
    "import jax.numpy as jnp\n",
    "from jax import grad, vmap, jit\n",
    "from jax import random\n",
    "from jax.scipy.special import logsumexp\n",
    "\n",
    "import jax\n",
    "\n",
    "from optax import apply_updates, sgd\n",
    "from tqdm import tqdm\n",
    "\n",
    "import numpy as np\n",
    "import torch\n",
    "from torch.utils import data\n",
    "from torchvision import datasets, transforms\n",
    "import time\n",
    "import matplotlib.pyplot as plt"
   ]
  },
  {
   "cell_type": "code",
   "execution_count": 2,
   "id": "70150e19",
   "metadata": {},
   "outputs": [],
   "source": [
    "def random_layer_params(m, n, key):\n",
    "    \"\"\"\n",
    "    b: visible bias\n",
    "    c: hidden bias\n",
    "    \n",
    "    \"\"\"\n",
    "    w = random.normal(key, (m, n)) * 0.01\n",
    "    b = jnp.zeros((m,))\n",
    "    c = jnp.zeros((n,))\n",
    "    return w, b, c"
   ]
  },
  {
   "cell_type": "code",
   "execution_count": 3,
   "id": "7ad83e34",
   "metadata": {},
   "outputs": [],
   "source": [
    "def init_network_params(layer_sizes, key):\n",
    "    W, b, c = random_layer_params(layer_sizes[0], layer_sizes[1], key)\n",
    "    return [W, b, c]"
   ]
  },
  {
   "cell_type": "code",
   "execution_count": 4,
   "id": "f392b371",
   "metadata": {},
   "outputs": [],
   "source": [
    "@jit\n",
    "def sigmoid(x):\n",
    "    return 1/(1+jnp.exp(-x))\n",
    "\n",
    "def relu(x):\n",
    "    return jnp.maximum(x, 0)\n",
    "\n",
    "@jit\n",
    "def linear(x, W, b):\n",
    "    return jnp.dot(x, W.T) + b"
   ]
  },
  {
   "cell_type": "code",
   "execution_count": 5,
   "id": "eb0a9b35",
   "metadata": {},
   "outputs": [],
   "source": [
    "@jit\n",
    "def hidden_sampling(params, v):\n",
    "    W, b, c = params\n",
    "    activations = linear(v, W.T, c)\n",
    "    probs = sigmoid(activations)\n",
    "    states = random.bernoulli(key, probs)\n",
    "    return probs, states\n",
    "\n",
    "@jit\n",
    "def visible_sampling(params, h):\n",
    "    W, b, c = params\n",
    "    activations = linear(h, W, b)\n",
    "    probs = sigmoid(activations)\n",
    "    states = probs\n",
    "    return probs, states\n",
    "\n",
    "@jit\n",
    "def gibbs_sampling(params, v):\n",
    "    v = jnp.array(v).reshape(28 * 28)\n",
    "    v_tilde = v\n",
    "    for i in range(steps):\n",
    "        _, h_tilde = hidden_sampling(params, v_tilde)\n",
    "        _, v_tilde = visible_sampling(params, h_tilde)\n",
    "\n",
    "    return h_tilde, v_tilde\n",
    "\n",
    "\n",
    "batched_hidden_sampling = vmap(hidden_sampling, in_axes=(None, 0))\n",
    "batched_visible_sampling = vmap(visible_sampling, in_axes=(None, 0))\n",
    "batched_sampling = vmap(gibbs_sampling, in_axes = (None, 0))"
   ]
  },
  {
   "cell_type": "code",
   "execution_count": 6,
   "id": "53b20996",
   "metadata": {},
   "outputs": [],
   "source": [
    "@jit\n",
    "def energy(params, v):\n",
    "    W, b, c = params\n",
    "    activations = linear(v, W.T, c)\n",
    "    h = jnp.sum(jax.nn.softplus(activations))\n",
    "    v = jnp.dot(v, b.T)\n",
    "    return -v-h\n",
    "\n",
    "batched_energy = vmap(energy, in_axes = (None, 0))"
   ]
  },
  {
   "cell_type": "code",
   "execution_count": 7,
   "id": "8fa35776",
   "metadata": {},
   "outputs": [],
   "source": [
    "def cost(params, v, v_tilde):\n",
    "    cost = jnp.mean(batched_energy(params, v)) - jnp.mean(batched_energy(params, v_tilde))\n",
    "    return cost\n",
    "\n",
    "# Uses just JAX's grad\n",
    "@jit  # Yay, it worked\n",
    "def update(params, v, v_tilde, opt_state):\n",
    "    dW, dB, dC = grad(cost)(params, v, v_tilde)\n",
    "    W, b, c = params\n",
    "    W -= step_size * dW\n",
    "    b -= step_size * dB\n",
    "    c -= step_size * dC\n",
    "    return [W, b, c]\n",
    "\n",
    "\n",
    "# Uses Optax\n",
    "# @jit\n",
    "# def update(params, v, v_tilde, opt_state):\n",
    "#     grads = grad(cost)(params, v, v_tilde)\n",
    "#     updates, opt_state = optimizer.update(grads, opt_state)\n",
    "#     return apply_updates(params, updates)"
   ]
  },
  {
   "cell_type": "code",
   "execution_count": 8,
   "id": "ff67b553",
   "metadata": {},
   "outputs": [
    {
     "name": "stderr",
     "output_type": "stream",
     "text": [
      "WARNING:absl:No GPU/TPU found, falling back to CPU. (Set TF_CPP_MIN_LOG_LEVEL=0 and rerun for more info.)\n"
     ]
    }
   ],
   "source": [
    "key = random.PRNGKey(1)\n",
    "step_size = 0.05\n",
    "num_epochs = 10\n",
    "batch_size = 128\n",
    "n_targets = 10\n",
    "steps = 2"
   ]
  },
  {
   "cell_type": "code",
   "execution_count": 9,
   "id": "b0d8995e",
   "metadata": {},
   "outputs": [],
   "source": [
    "train = datasets.MNIST(\n",
    "    root='./data', train=True, download=True, transform=transforms.ToTensor())\n",
    "\n",
    "test = datasets.MNIST(\n",
    "    root='./data', train=False, download=True, transform=transforms.ToTensor()\n",
    ")\n",
    "\n",
    "train_loader = torch.utils.data.DataLoader(\n",
    "    train,\n",
    "    batch_size=batch_size, shuffle=True)\n",
    "\n",
    "test_loader = torch.utils.data.DataLoader(\n",
    "    test,\n",
    "    batch_size=batch_size, shuffle=True)"
   ]
  },
  {
   "cell_type": "code",
   "execution_count": 10,
   "id": "4c6035ae",
   "metadata": {},
   "outputs": [
    {
     "data": {
      "text/plain": [
       "3"
      ]
     },
     "execution_count": 10,
     "metadata": {},
     "output_type": "execute_result"
    }
   ],
   "source": [
    "# Params\n",
    "params = init_network_params([784, 128], key)\n",
    "len(params)"
   ]
  },
  {
   "cell_type": "code",
   "execution_count": 11,
   "id": "8fbe69f6",
   "metadata": {},
   "outputs": [],
   "source": [
    "optimizer = sgd(learning_rate=step_size)\n",
    "opt_state = optimizer.init(params)"
   ]
  },
  {
   "cell_type": "code",
   "execution_count": 12,
   "id": "2f850614",
   "metadata": {},
   "outputs": [
    {
     "name": "stderr",
     "output_type": "stream",
     "text": [
      "100%|█████████████████████████████████████████| 469/469 [00:08<00:00, 55.53it/s]\n"
     ]
    },
    {
     "name": "stdout",
     "output_type": "stream",
     "text": [
      "Epoch 0 in 8.45 sec with MSE: 39.99150466918945\n"
     ]
    },
    {
     "name": "stderr",
     "output_type": "stream",
     "text": [
      "100%|█████████████████████████████████████████| 469/469 [00:06<00:00, 68.56it/s]\n"
     ]
    },
    {
     "name": "stdout",
     "output_type": "stream",
     "text": [
      "Epoch 1 in 6.84 sec with MSE: 24.121065139770508\n"
     ]
    },
    {
     "name": "stderr",
     "output_type": "stream",
     "text": [
      "100%|█████████████████████████████████████████| 469/469 [00:06<00:00, 69.95it/s]\n"
     ]
    },
    {
     "name": "stdout",
     "output_type": "stream",
     "text": [
      "Epoch 2 in 6.71 sec with MSE: 20.2661075592041\n"
     ]
    },
    {
     "name": "stderr",
     "output_type": "stream",
     "text": [
      "100%|█████████████████████████████████████████| 469/469 [00:06<00:00, 69.81it/s]\n"
     ]
    },
    {
     "name": "stdout",
     "output_type": "stream",
     "text": [
      "Epoch 3 in 6.72 sec with MSE: 18.205175399780273\n"
     ]
    },
    {
     "name": "stderr",
     "output_type": "stream",
     "text": [
      "100%|█████████████████████████████████████████| 469/469 [00:06<00:00, 68.98it/s]\n"
     ]
    },
    {
     "name": "stdout",
     "output_type": "stream",
     "text": [
      "Epoch 4 in 6.80 sec with MSE: 16.99628448486328\n"
     ]
    },
    {
     "name": "stderr",
     "output_type": "stream",
     "text": [
      "100%|█████████████████████████████████████████| 469/469 [00:06<00:00, 69.22it/s]\n"
     ]
    },
    {
     "name": "stdout",
     "output_type": "stream",
     "text": [
      "Epoch 5 in 6.78 sec with MSE: 16.171939849853516\n"
     ]
    },
    {
     "name": "stderr",
     "output_type": "stream",
     "text": [
      "100%|█████████████████████████████████████████| 469/469 [00:06<00:00, 69.92it/s]\n"
     ]
    },
    {
     "name": "stdout",
     "output_type": "stream",
     "text": [
      "Epoch 6 in 6.71 sec with MSE: 15.557933807373047\n"
     ]
    },
    {
     "name": "stderr",
     "output_type": "stream",
     "text": [
      "100%|█████████████████████████████████████████| 469/469 [00:06<00:00, 69.09it/s]\n"
     ]
    },
    {
     "name": "stdout",
     "output_type": "stream",
     "text": [
      "Epoch 7 in 6.79 sec with MSE: 15.094781875610352\n"
     ]
    },
    {
     "name": "stderr",
     "output_type": "stream",
     "text": [
      "100%|█████████████████████████████████████████| 469/469 [00:06<00:00, 69.09it/s]\n"
     ]
    },
    {
     "name": "stdout",
     "output_type": "stream",
     "text": [
      "Epoch 8 in 6.79 sec with MSE: 14.72701644897461\n"
     ]
    },
    {
     "name": "stderr",
     "output_type": "stream",
     "text": [
      "100%|█████████████████████████████████████████| 469/469 [00:06<00:00, 68.84it/s]"
     ]
    },
    {
     "name": "stdout",
     "output_type": "stream",
     "text": [
      "Epoch 9 in 6.81 sec with MSE: 14.43231201171875\n"
     ]
    },
    {
     "name": "stderr",
     "output_type": "stream",
     "text": [
      "\n"
     ]
    }
   ],
   "source": [
    "for epoch in range(num_epochs):\n",
    "    start = time.time()\n",
    "    MSE = 0\n",
    "    for x, y in tqdm(train_loader):\n",
    "        \n",
    "        v = jnp.array(x).reshape(x.size(0), 28 * 28)\n",
    "        h_tilde, v_tilde = batched_sampling(params, v)\n",
    "        \n",
    "        params = update(params, v, v_tilde, opt_state)\n",
    "        \n",
    "        # MSE\n",
    "        batch_size = x.size(0)\n",
    "        batch_mse = jnp.divide(jnp.sum(jnp.power(v - v_tilde, 2)), batch_size)\n",
    "        \n",
    "        MSE += batch_mse\n",
    "        \n",
    "    epoch_time = time.time() - start\n",
    "    print(f'Epoch {epoch} in {epoch_time:0.2f} sec with MSE: {MSE/len(train_loader)}')"
   ]
  },
  {
   "cell_type": "code",
   "execution_count": 13,
   "id": "befd3d9f",
   "metadata": {},
   "outputs": [],
   "source": [
    "@jit\n",
    "def reconstruct(images, params):\n",
    "    h_t, v_t = batched_sampling(params, images)\n",
    "    return v_t"
   ]
  },
  {
   "cell_type": "code",
   "execution_count": 17,
   "id": "ddd68f81",
   "metadata": {},
   "outputs": [],
   "source": [
    "def plot_images(images, params, num_images=5):\n",
    "    v_t = reconstruct(images, params)\n",
    "    fig = plt.figure(figsize=(10, 10))\n",
    "    for i in range(num_images):\n",
    "        ax = fig.add_subplot(num_images, 2, 2*i+1)\n",
    "        ax.title.set_text('Original Image')\n",
    "        plt.imshow(images[i].reshape(28, 28))\n",
    "        \n",
    "        ax2 = fig.add_subplot(num_images, 2, 2*i+2)\n",
    "        ax2.title.set_text('Reconstructed Image')\n",
    "\n",
    "        plt.imshow(v_t[i].reshape(28, 28))\n",
    "    fig.tight_layout(pad=10)\n",
    "    plt.subplots_adjust(left=0.1,\n",
    "                        bottom=0.1, \n",
    "                        right=0.9, \n",
    "                        top=0.9, \n",
    "                        wspace=0.4, \n",
    "                        hspace=0.4)\n",
    "    plt.show()"
   ]
  },
  {
   "cell_type": "code",
   "execution_count": 18,
   "id": "5c3a0e89",
   "metadata": {},
   "outputs": [],
   "source": [
    "images = jnp.array(x).reshape(x.size(0), 28 * 28)"
   ]
  },
  {
   "cell_type": "code",
   "execution_count": 19,
   "id": "dbde5519",
   "metadata": {},
   "outputs": [
    {
     "name": "stderr",
     "output_type": "stream",
     "text": [
      "/tmp/ipykernel_14190/4167447502.py:13: UserWarning: Tight layout not applied. tight_layout cannot make axes height small enough to accommodate all axes decorations.\n",
      "  fig.tight_layout(pad=10)\n"
     ]
    },
    {
     "data": {
      "image/png": "[encoded data removed]",
      "text/plain": [
       "<Figure size 720x720 with 10 Axes>"
      ]
     },
     "metadata": {
      "needs_background": "light"
     },
     "output_type": "display_data"
    }
   ],
   "source": [
    "plot_images(images, params)"
   ]
  },
  {
   "cell_type": "code",
   "execution_count": null,
   "id": "48db3099",
   "metadata": {},
   "outputs": [],
   "source": []
  }
 ],
 "metadata": {
  "kernelspec": {
   "display_name": "Python 3 (ipykernel)",
   "language": "python",
   "name": "python3"
  },
  "language_info": {
   "codemirror_mode": {
    "name": "ipython",
    "version": 3
   },
   "file_extension": ".py",
   "mimetype": "text/x-python",
   "name": "python",
   "nbconvert_exporter": "python",
   "pygments_lexer": "ipython3",
   "version": "3.8.0"
  }
 },
 "nbformat": 4,
 "nbformat_minor": 5
}
